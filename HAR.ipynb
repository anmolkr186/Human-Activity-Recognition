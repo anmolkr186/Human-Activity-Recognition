{
  "nbformat": 4,
  "nbformat_minor": 0,
  "metadata": {
    "kernelspec": {
      "display_name": "Python 3",
      "language": "python",
      "name": "python3"
    },
    "language_info": {
      "codemirror_mode": {
        "name": "ipython",
        "version": 3
      },
      "file_extension": ".py",
      "mimetype": "text/x-python",
      "name": "python",
      "nbconvert_exporter": "python",
      "pygments_lexer": "ipython3",
      "version": "3.7.6"
    },
    "colab": {
      "name": "project maamla.ipynb",
      "provenance": []
    }
  },
  "cells": [
    {
      "cell_type": "code",
      "metadata": {
        "id": "Q8yRZ2jdvcGk"
      },
      "source": [
        "import numpy as np \n",
        "import pandas as pd \n",
        "import seaborn as sns\n",
        "sns.set(style=\"white\") #white background style for seaborn plots\n",
        "sns.set(style=\"whitegrid\", color_codes=True)\n",
        "from sklearn.preprocessing import StandardScaler\n",
        "import seaborn as sns\n",
        "import matplotlib.pyplot as plt\n",
        "from sklearn import linear_model, decomposition, datasets"
      ],
      "execution_count": 22,
      "outputs": []
    },
    {
      "cell_type": "code",
      "metadata": {
        "colab": {
          "base_uri": "https://localhost:8080/"
        },
        "id": "oMlK5WLevvvv",
        "outputId": "a63d0b9c-5cf1-483c-eff3-ad5cc8c2c2af"
      },
      "source": [
        "from google.colab import drive\n",
        "drive.mount('/content/drive')"
      ],
      "execution_count": 23,
      "outputs": [
        {
          "output_type": "stream",
          "text": [
            "Drive already mounted at /content/drive; to attempt to forcibly remount, call drive.mount(\"/content/drive\", force_remount=True).\n"
          ],
          "name": "stdout"
        }
      ]
    },
    {
      "cell_type": "code",
      "metadata": {
        "colab": {
          "base_uri": "https://localhost:8080/",
          "height": 444
        },
        "id": "sWXkoOnovcGm",
        "outputId": "3d6d01ae-d49b-4fff-ca76-eaccc84e51ea"
      },
      "source": [
        "train = pd.read_csv(\"/content/drive/My Drive/Copy of HAR dataset.csv\", delimiter=';')\n",
        "train"
      ],
      "execution_count": 24,
      "outputs": [
        {
          "output_type": "stream",
          "text": [
            "/usr/local/lib/python3.6/dist-packages/IPython/core/interactiveshell.py:2718: DtypeWarning: Columns (17) have mixed types.Specify dtype option on import or set low_memory=False.\n",
            "  interactivity=interactivity, compiler=compiler, result=result)\n"
          ],
          "name": "stderr"
        },
        {
          "output_type": "execute_result",
          "data": {
            "text/html": [
              "<div>\n",
              "<style scoped>\n",
              "    .dataframe tbody tr th:only-of-type {\n",
              "        vertical-align: middle;\n",
              "    }\n",
              "\n",
              "    .dataframe tbody tr th {\n",
              "        vertical-align: top;\n",
              "    }\n",
              "\n",
              "    .dataframe thead th {\n",
              "        text-align: right;\n",
              "    }\n",
              "</style>\n",
              "<table border=\"1\" class=\"dataframe\">\n",
              "  <thead>\n",
              "    <tr style=\"text-align: right;\">\n",
              "      <th></th>\n",
              "      <th>user</th>\n",
              "      <th>gender</th>\n",
              "      <th>age</th>\n",
              "      <th>how_tall_in_meters</th>\n",
              "      <th>weight</th>\n",
              "      <th>body_mass_index</th>\n",
              "      <th>x1</th>\n",
              "      <th>y1</th>\n",
              "      <th>z1</th>\n",
              "      <th>x2</th>\n",
              "      <th>y2</th>\n",
              "      <th>z2</th>\n",
              "      <th>x3</th>\n",
              "      <th>y3</th>\n",
              "      <th>z3</th>\n",
              "      <th>x4</th>\n",
              "      <th>y4</th>\n",
              "      <th>z4</th>\n",
              "      <th>class</th>\n",
              "    </tr>\n",
              "  </thead>\n",
              "  <tbody>\n",
              "    <tr>\n",
              "      <th>0</th>\n",
              "      <td>debora</td>\n",
              "      <td>Woman</td>\n",
              "      <td>46</td>\n",
              "      <td>1,62</td>\n",
              "      <td>75</td>\n",
              "      <td>28,6</td>\n",
              "      <td>-3</td>\n",
              "      <td>92</td>\n",
              "      <td>-63</td>\n",
              "      <td>-23</td>\n",
              "      <td>18</td>\n",
              "      <td>-19</td>\n",
              "      <td>5</td>\n",
              "      <td>104</td>\n",
              "      <td>-92</td>\n",
              "      <td>-150</td>\n",
              "      <td>-103</td>\n",
              "      <td>-147</td>\n",
              "      <td>sitting</td>\n",
              "    </tr>\n",
              "    <tr>\n",
              "      <th>1</th>\n",
              "      <td>debora</td>\n",
              "      <td>Woman</td>\n",
              "      <td>46</td>\n",
              "      <td>1,62</td>\n",
              "      <td>75</td>\n",
              "      <td>28,6</td>\n",
              "      <td>-3</td>\n",
              "      <td>94</td>\n",
              "      <td>-64</td>\n",
              "      <td>-21</td>\n",
              "      <td>18</td>\n",
              "      <td>-18</td>\n",
              "      <td>-14</td>\n",
              "      <td>104</td>\n",
              "      <td>-90</td>\n",
              "      <td>-149</td>\n",
              "      <td>-104</td>\n",
              "      <td>-145</td>\n",
              "      <td>sitting</td>\n",
              "    </tr>\n",
              "    <tr>\n",
              "      <th>2</th>\n",
              "      <td>debora</td>\n",
              "      <td>Woman</td>\n",
              "      <td>46</td>\n",
              "      <td>1,62</td>\n",
              "      <td>75</td>\n",
              "      <td>28,6</td>\n",
              "      <td>-1</td>\n",
              "      <td>97</td>\n",
              "      <td>-61</td>\n",
              "      <td>-12</td>\n",
              "      <td>20</td>\n",
              "      <td>-15</td>\n",
              "      <td>-13</td>\n",
              "      <td>104</td>\n",
              "      <td>-90</td>\n",
              "      <td>-151</td>\n",
              "      <td>-104</td>\n",
              "      <td>-144</td>\n",
              "      <td>sitting</td>\n",
              "    </tr>\n",
              "    <tr>\n",
              "      <th>3</th>\n",
              "      <td>debora</td>\n",
              "      <td>Woman</td>\n",
              "      <td>46</td>\n",
              "      <td>1,62</td>\n",
              "      <td>75</td>\n",
              "      <td>28,6</td>\n",
              "      <td>-2</td>\n",
              "      <td>96</td>\n",
              "      <td>-57</td>\n",
              "      <td>-15</td>\n",
              "      <td>21</td>\n",
              "      <td>-16</td>\n",
              "      <td>-13</td>\n",
              "      <td>104</td>\n",
              "      <td>-89</td>\n",
              "      <td>-153</td>\n",
              "      <td>-103</td>\n",
              "      <td>-142</td>\n",
              "      <td>sitting</td>\n",
              "    </tr>\n",
              "    <tr>\n",
              "      <th>4</th>\n",
              "      <td>debora</td>\n",
              "      <td>Woman</td>\n",
              "      <td>46</td>\n",
              "      <td>1,62</td>\n",
              "      <td>75</td>\n",
              "      <td>28,6</td>\n",
              "      <td>-1</td>\n",
              "      <td>96</td>\n",
              "      <td>-61</td>\n",
              "      <td>-13</td>\n",
              "      <td>20</td>\n",
              "      <td>-15</td>\n",
              "      <td>-13</td>\n",
              "      <td>104</td>\n",
              "      <td>-89</td>\n",
              "      <td>-153</td>\n",
              "      <td>-104</td>\n",
              "      <td>-143</td>\n",
              "      <td>sitting</td>\n",
              "    </tr>\n",
              "    <tr>\n",
              "      <th>...</th>\n",
              "      <td>...</td>\n",
              "      <td>...</td>\n",
              "      <td>...</td>\n",
              "      <td>...</td>\n",
              "      <td>...</td>\n",
              "      <td>...</td>\n",
              "      <td>...</td>\n",
              "      <td>...</td>\n",
              "      <td>...</td>\n",
              "      <td>...</td>\n",
              "      <td>...</td>\n",
              "      <td>...</td>\n",
              "      <td>...</td>\n",
              "      <td>...</td>\n",
              "      <td>...</td>\n",
              "      <td>...</td>\n",
              "      <td>...</td>\n",
              "      <td>...</td>\n",
              "      <td>...</td>\n",
              "    </tr>\n",
              "    <tr>\n",
              "      <th>165628</th>\n",
              "      <td>jose_carlos</td>\n",
              "      <td>Man</td>\n",
              "      <td>75</td>\n",
              "      <td>1,67</td>\n",
              "      <td>67</td>\n",
              "      <td>24,0</td>\n",
              "      <td>2</td>\n",
              "      <td>93</td>\n",
              "      <td>-148</td>\n",
              "      <td>-8</td>\n",
              "      <td>88</td>\n",
              "      <td>-100</td>\n",
              "      <td>15</td>\n",
              "      <td>120</td>\n",
              "      <td>-100</td>\n",
              "      <td>-189</td>\n",
              "      <td>-77</td>\n",
              "      <td>-160</td>\n",
              "      <td>walking</td>\n",
              "    </tr>\n",
              "    <tr>\n",
              "      <th>165629</th>\n",
              "      <td>jose_carlos</td>\n",
              "      <td>Man</td>\n",
              "      <td>75</td>\n",
              "      <td>1,67</td>\n",
              "      <td>67</td>\n",
              "      <td>24,0</td>\n",
              "      <td>-1</td>\n",
              "      <td>94</td>\n",
              "      <td>-147</td>\n",
              "      <td>-17</td>\n",
              "      <td>87</td>\n",
              "      <td>-99</td>\n",
              "      <td>17</td>\n",
              "      <td>121</td>\n",
              "      <td>-99</td>\n",
              "      <td>-190</td>\n",
              "      <td>-78</td>\n",
              "      <td>-158</td>\n",
              "      <td>walking</td>\n",
              "    </tr>\n",
              "    <tr>\n",
              "      <th>165630</th>\n",
              "      <td>jose_carlos</td>\n",
              "      <td>Man</td>\n",
              "      <td>75</td>\n",
              "      <td>1,67</td>\n",
              "      <td>67</td>\n",
              "      <td>24,0</td>\n",
              "      <td>-10</td>\n",
              "      <td>93</td>\n",
              "      <td>-143</td>\n",
              "      <td>-19</td>\n",
              "      <td>86</td>\n",
              "      <td>-104</td>\n",
              "      <td>0</td>\n",
              "      <td>114</td>\n",
              "      <td>-101</td>\n",
              "      <td>-185</td>\n",
              "      <td>-80</td>\n",
              "      <td>-153</td>\n",
              "      <td>walking</td>\n",
              "    </tr>\n",
              "    <tr>\n",
              "      <th>165631</th>\n",
              "      <td>jose_carlos</td>\n",
              "      <td>Man</td>\n",
              "      <td>75</td>\n",
              "      <td>1,67</td>\n",
              "      <td>67</td>\n",
              "      <td>24,0</td>\n",
              "      <td>-15</td>\n",
              "      <td>86</td>\n",
              "      <td>-152</td>\n",
              "      <td>-19</td>\n",
              "      <td>88</td>\n",
              "      <td>-117</td>\n",
              "      <td>-44</td>\n",
              "      <td>155</td>\n",
              "      <td>-25</td>\n",
              "      <td>-185</td>\n",
              "      <td>-84</td>\n",
              "      <td>-156</td>\n",
              "      <td>walking</td>\n",
              "    </tr>\n",
              "    <tr>\n",
              "      <th>165632</th>\n",
              "      <td>jose_carlos</td>\n",
              "      <td>Man</td>\n",
              "      <td>75</td>\n",
              "      <td>1,67</td>\n",
              "      <td>67</td>\n",
              "      <td>24,0</td>\n",
              "      <td>-14</td>\n",
              "      <td>86</td>\n",
              "      <td>-144</td>\n",
              "      <td>-18</td>\n",
              "      <td>85</td>\n",
              "      <td>-107</td>\n",
              "      <td>-3</td>\n",
              "      <td>114</td>\n",
              "      <td>-128</td>\n",
              "      <td>-210</td>\n",
              "      <td>-88</td>\n",
              "      <td>-148</td>\n",
              "      <td>walking</td>\n",
              "    </tr>\n",
              "  </tbody>\n",
              "</table>\n",
              "<p>165633 rows × 19 columns</p>\n",
              "</div>"
            ],
            "text/plain": [
              "               user gender  age how_tall_in_meters  ...   x4   y4    z4    class\n",
              "0            debora  Woman   46               1,62  ... -150 -103  -147  sitting\n",
              "1            debora  Woman   46               1,62  ... -149 -104  -145  sitting\n",
              "2            debora  Woman   46               1,62  ... -151 -104  -144  sitting\n",
              "3            debora  Woman   46               1,62  ... -153 -103  -142  sitting\n",
              "4            debora  Woman   46               1,62  ... -153 -104  -143  sitting\n",
              "...             ...    ...  ...                ...  ...  ...  ...   ...      ...\n",
              "165628  jose_carlos    Man   75               1,67  ... -189  -77  -160  walking\n",
              "165629  jose_carlos    Man   75               1,67  ... -190  -78  -158  walking\n",
              "165630  jose_carlos    Man   75               1,67  ... -185  -80  -153  walking\n",
              "165631  jose_carlos    Man   75               1,67  ... -185  -84  -156  walking\n",
              "165632  jose_carlos    Man   75               1,67  ... -210  -88  -148  walking\n",
              "\n",
              "[165633 rows x 19 columns]"
            ]
          },
          "metadata": {
            "tags": []
          },
          "execution_count": 24
        }
      ]
    },
    {
      "cell_type": "code",
      "metadata": {
        "id": "MYQKMyVTvcGn"
      },
      "source": [
        "train['gender'] = train['gender'].apply(lambda x: 0 if x=='Woman' else 1)\n",
        "train.head()\n",
        "from sklearn.utils import shuffle\n",
        "train = shuffle(train)"
      ],
      "execution_count": 25,
      "outputs": []
    },
    {
      "cell_type": "code",
      "metadata": {
        "colab": {
          "base_uri": "https://localhost:8080/"
        },
        "id": "-WfWX-I9vcGn",
        "outputId": "70c7ee62-6ca1-409e-ec48-585f4b94e748"
      },
      "source": [
        "x = train.iloc[:, 6:-1]\n",
        "y = train.iloc[:, -1]\n",
        "y"
      ],
      "execution_count": 26,
      "outputs": [
        {
          "output_type": "execute_result",
          "data": {
            "text/plain": [
              "121839    standingup\n",
              "76616       standing\n",
              "39944        sitting\n",
              "14758        sitting\n",
              "13658        sitting\n",
              "             ...    \n",
              "90445       standing\n",
              "23388        sitting\n",
              "44143        sitting\n",
              "107236      standing\n",
              "18517        sitting\n",
              "Name: class, Length: 165633, dtype: object"
            ]
          },
          "metadata": {
            "tags": []
          },
          "execution_count": 26
        }
      ]
    },
    {
      "cell_type": "code",
      "metadata": {
        "id": "um6HRXJPvcGo"
      },
      "source": [
        "index = x[x.z4 == '-14420-11-2011 04:50:23.713'].index\n",
        "x.drop(index, inplace=True)\n",
        "y.drop(index, inplace=True)\n"
      ],
      "execution_count": 27,
      "outputs": []
    },
    {
      "cell_type": "code",
      "metadata": {
        "id": "ovSeuYvqvcGo"
      },
      "source": [
        "# for i in range(len(y)):\n",
        "#     if(y[i] == \"sitting\"): \n",
        "#         y[i] = 1\n",
        "#     if(y[i] == \"sittingdown\"): \n",
        "#         y[i] = 2\n",
        "#     if(y[i] == \"standing\"): \n",
        "#         y[i] = 3\n",
        "#     if(y[i] == \"standingup\"): \n",
        "#         y[i] = 4\n",
        "#     if(y[i] == \"walking\"): \n",
        "#         y[i] = 5"
      ],
      "execution_count": 28,
      "outputs": []
    },
    {
      "cell_type": "code",
      "metadata": {
        "colab": {
          "base_uri": "https://localhost:8080/"
        },
        "id": "jQMQdym2vcGp",
        "outputId": "b616b6df-83eb-4a3f-86ae-ed3d5335c537"
      },
      "source": [
        "from sklearn.model_selection import train_test_split\n",
        "xtrain, xtest, ytrain, ytest = train_test_split(x, y)\n",
        "print(xtrain.shape)\n",
        "print(xtest.shape)\n",
        "print(ytrain.shape)\n",
        "print(ytest.shape)"
      ],
      "execution_count": 29,
      "outputs": [
        {
          "output_type": "stream",
          "text": [
            "(124224, 12)\n",
            "(41408, 12)\n",
            "(124224,)\n",
            "(41408,)\n"
          ],
          "name": "stdout"
        }
      ]
    },
    {
      "cell_type": "code",
      "metadata": {
        "colab": {
          "base_uri": "https://localhost:8080/"
        },
        "id": "wM_5679lvcGp",
        "outputId": "7476dbdb-4e6b-4d83-cbd2-71d9ec989887"
      },
      "source": [
        "from sklearn.linear_model import SGDClassifier\n",
        "sgd = SGDClassifier()\n",
        "sgd.fit(xtrain, ytrain ) "
      ],
      "execution_count": 30,
      "outputs": [
        {
          "output_type": "execute_result",
          "data": {
            "text/plain": [
              "SGDClassifier(alpha=0.0001, average=False, class_weight=None,\n",
              "              early_stopping=False, epsilon=0.1, eta0=0.0, fit_intercept=True,\n",
              "              l1_ratio=0.15, learning_rate='optimal', loss='hinge',\n",
              "              max_iter=1000, n_iter_no_change=5, n_jobs=None, penalty='l2',\n",
              "              power_t=0.5, random_state=None, shuffle=True, tol=0.001,\n",
              "              validation_fraction=0.1, verbose=0, warm_start=False)"
            ]
          },
          "metadata": {
            "tags": []
          },
          "execution_count": 30
        }
      ]
    },
    {
      "cell_type": "code",
      "metadata": {
        "colab": {
          "base_uri": "https://localhost:8080/"
        },
        "id": "l7TvwJ1GvcGp",
        "outputId": "75dc6e36-0471-4885-82dc-6d3e2709fdba"
      },
      "source": [
        "sgd.score(xtest, ytest)"
      ],
      "execution_count": 31,
      "outputs": [
        {
          "output_type": "execute_result",
          "data": {
            "text/plain": [
              "0.7635239567233385"
            ]
          },
          "metadata": {
            "tags": []
          },
          "execution_count": 31
        }
      ]
    },
    {
      "cell_type": "code",
      "metadata": {
        "colab": {
          "base_uri": "https://localhost:8080/"
        },
        "id": "vI_7hY6wvcGq",
        "outputId": "0f64dc0e-3d50-4622-a5c0-9ec3a4835258"
      },
      "source": [
        "sgd.score(xtrain, ytrain)"
      ],
      "execution_count": 32,
      "outputs": [
        {
          "output_type": "execute_result",
          "data": {
            "text/plain": [
              "0.7613424137042761"
            ]
          },
          "metadata": {
            "tags": []
          },
          "execution_count": 32
        }
      ]
    },
    {
      "cell_type": "code",
      "metadata": {
        "colab": {
          "base_uri": "https://localhost:8080/"
        },
        "id": "yx0O3BwqvcGq",
        "outputId": "eadd1338-87ea-450e-f784-b9de7667efc9"
      },
      "source": [
        "n = len(x)\n",
        "j = 0\n",
        "x1 = x.to_numpy()\n",
        "y1 = y.to_numpy()\n",
        "for i in range(3):\n",
        "    xtest = x1[j:j+n//3]\n",
        "    ytest = y1[j:j+n//3]\n",
        "    xtrain = np.concatenate( (x1[:j],x1[j+n//3:]))\n",
        "    ytrain = np.concatenate( (y1[:j],y1[j+n//3:]))\n",
        "    sgd.fit(xtrain[:1000], ytrain[:1000])\n",
        "    j+=n//3\n",
        "    print(sgd.score(xtest, ytest))\n"
      ],
      "execution_count": 33,
      "outputs": [
        {
          "output_type": "stream",
          "text": [
            "0.6973917768520196\n",
            "0.5730845861257019\n",
            "0.7781199058141641\n"
          ],
          "name": "stdout"
        }
      ]
    },
    {
      "cell_type": "code",
      "metadata": {
        "colab": {
          "base_uri": "https://localhost:8080/",
          "height": 285
        },
        "id": "YP3YSPaOvcGr",
        "outputId": "fb8104ec-b7c0-4863-bf98-fdb870d74055"
      },
      "source": [
        "from sklearn.metrics import plot_confusion_matrix\n",
        "plot_confusion_matrix(sgd, xtest, ytest,  normalize = 'pred')\n",
        "sns.set(font_scale=0.75)\n",
        "plt.show()"
      ],
      "execution_count": 34,
      "outputs": [
        {
          "output_type": "display_data",
          "data": {
            "image/png": "[encoded data removed]",
            "text/plain": [
              "<Figure size 432x288 with 2 Axes>"
            ]
          },
          "metadata": {
            "tags": []
          }
        }
      ]
    },
    {
      "cell_type": "code",
      "metadata": {
        "id": "SlVAXRQhvcGr"
      },
      "source": [
        "from sklearn.discriminant_analysis import QuadraticDiscriminantAnalysis\n",
        "qd = QuadraticDiscriminantAnalysis()"
      ],
      "execution_count": 35,
      "outputs": []
    },
    {
      "cell_type": "code",
      "metadata": {
        "colab": {
          "base_uri": "https://localhost:8080/"
        },
        "id": "n0Q5UE5TvcGs",
        "outputId": "91379092-b204-47be-a399-a7d5bab9ebf9"
      },
      "source": [
        "qd.fit(xtrain, ytrain)"
      ],
      "execution_count": 36,
      "outputs": [
        {
          "output_type": "execute_result",
          "data": {
            "text/plain": [
              "QuadraticDiscriminantAnalysis(priors=None, reg_param=0.0,\n",
              "                              store_covariance=False, tol=0.0001)"
            ]
          },
          "metadata": {
            "tags": []
          },
          "execution_count": 36
        }
      ]
    },
    {
      "cell_type": "code",
      "metadata": {
        "colab": {
          "base_uri": "https://localhost:8080/"
        },
        "id": "Q4Xy15nbvcGs",
        "outputId": "e70ee15b-edfa-4ae5-bd91-558fbb453305"
      },
      "source": [
        "qd.score(xtest, ytest)"
      ],
      "execution_count": 37,
      "outputs": [
        {
          "output_type": "execute_result",
          "data": {
            "text/plain": [
              "0.9047817424379642"
            ]
          },
          "metadata": {
            "tags": []
          },
          "execution_count": 37
        }
      ]
    },
    {
      "cell_type": "code",
      "metadata": {
        "colab": {
          "base_uri": "https://localhost:8080/"
        },
        "id": "JyX2JrJJvcGs",
        "outputId": "4fadf482-aac8-410f-dbee-09282b47f648"
      },
      "source": [
        "qd.score(xtrain, ytrain)"
      ],
      "execution_count": 38,
      "outputs": [
        {
          "output_type": "execute_result",
          "data": {
            "text/plain": [
              "0.9050913767184076"
            ]
          },
          "metadata": {
            "tags": []
          },
          "execution_count": 38
        }
      ]
    },
    {
      "cell_type": "code",
      "metadata": {
        "scrolled": true,
        "colab": {
          "base_uri": "https://localhost:8080/"
        },
        "id": "I73gFmAOvcGt",
        "outputId": "bfbf900f-4d71-42bf-9ff2-4245dfaf52d3"
      },
      "source": [
        "n = len(x)\n",
        "j = 0\n",
        "x1 = x.to_numpy()\n",
        "y1 = y.to_numpy()\n",
        "for i in range(3):\n",
        "    xtest = x1[j:j+n//3]\n",
        "    ytest = y1[j:j+n//3]\n",
        "    xtrain = np.concatenate( (x1[:j],x1[j+n//3:]))\n",
        "    ytrain = np.concatenate( (y1[:j],y1[j+n//3:]))\n",
        "    qd.fit(xtrain[:1000], ytrain[:1000])\n",
        "    j+=n//3\n",
        "    print(qd.score(xtest, ytest))\n"
      ],
      "execution_count": 39,
      "outputs": [
        {
          "output_type": "stream",
          "text": [
            "0.9141641007063938\n",
            "0.9083680492664372\n",
            "0.9069009237456982\n"
          ],
          "name": "stdout"
        }
      ]
    },
    {
      "cell_type": "code",
      "metadata": {
        "colab": {
          "base_uri": "https://localhost:8080/",
          "height": 280
        },
        "id": "x-U8MnC9vcGt",
        "outputId": "eb0b6c7a-6b89-40bd-c92c-958690743754"
      },
      "source": [
        "plot_confusion_matrix(qd, xtest, ytest,  normalize = 'pred')\n",
        "sns.set(font_scale=0.75)\n",
        "plt.show()"
      ],
      "execution_count": 40,
      "outputs": [
        {
          "output_type": "display_data",
          "data": {
            "image/png": "[encoded data removed]",
            "text/plain": [
              "<Figure size 432x288 with 2 Axes>"
            ]
          },
          "metadata": {
            "tags": []
          }
        }
      ]
    },
    {
      "cell_type": "code",
      "metadata": {
        "id": "SYA2EbX_vcGt"
      },
      "source": [
        ""
      ],
      "execution_count": 40,
      "outputs": []
    },
    {
      "cell_type": "code",
      "metadata": {
        "colab": {
          "base_uri": "https://localhost:8080/"
        },
        "id": "TFNTr24yvcGu",
        "outputId": "f753f796-83aa-4b86-c9fe-310ac492ba97"
      },
      "source": [
        "from sklearn.linear_model import LogisticRegression\n",
        "lr = LogisticRegression(max_iter = 500)\n",
        "lr.fit(xtrain, ytrain)"
      ],
      "execution_count": 41,
      "outputs": [
        {
          "output_type": "stream",
          "text": [
            "/usr/local/lib/python3.6/dist-packages/sklearn/linear_model/_logistic.py:940: ConvergenceWarning: lbfgs failed to converge (status=1):\n",
            "STOP: TOTAL NO. of ITERATIONS REACHED LIMIT.\n",
            "\n",
            "Increase the number of iterations (max_iter) or scale the data as shown in:\n",
            "    https://scikit-learn.org/stable/modules/preprocessing.html\n",
            "Please also refer to the documentation for alternative solver options:\n",
            "    https://scikit-learn.org/stable/modules/linear_model.html#logistic-regression\n",
            "  extra_warning_msg=_LOGISTIC_SOLVER_CONVERGENCE_MSG)\n"
          ],
          "name": "stderr"
        },
        {
          "output_type": "execute_result",
          "data": {
            "text/plain": [
              "LogisticRegression(C=1.0, class_weight=None, dual=False, fit_intercept=True,\n",
              "                   intercept_scaling=1, l1_ratio=None, max_iter=500,\n",
              "                   multi_class='auto', n_jobs=None, penalty='l2',\n",
              "                   random_state=None, solver='lbfgs', tol=0.0001, verbose=0,\n",
              "                   warm_start=False)"
            ]
          },
          "metadata": {
            "tags": []
          },
          "execution_count": 41
        }
      ]
    },
    {
      "cell_type": "code",
      "metadata": {
        "colab": {
          "base_uri": "https://localhost:8080/"
        },
        "id": "iCBTZuS3vcGu",
        "outputId": "e740a35d-1556-4831-a3eb-01d29c951410"
      },
      "source": [
        "lr.score(xtest,ytest)"
      ],
      "execution_count": 42,
      "outputs": [
        {
          "output_type": "execute_result",
          "data": {
            "text/plain": [
              "0.7976634667632675"
            ]
          },
          "metadata": {
            "tags": []
          },
          "execution_count": 42
        }
      ]
    },
    {
      "cell_type": "code",
      "metadata": {
        "colab": {
          "base_uri": "https://localhost:8080/"
        },
        "id": "xgUikL_yvcGu",
        "outputId": "c13d9766-2a75-4ef1-bab0-f83e95e81cad"
      },
      "source": [
        "lr.score(xtrain, ytrain)"
      ],
      "execution_count": 43,
      "outputs": [
        {
          "output_type": "execute_result",
          "data": {
            "text/plain": [
              "0.7984187933563963"
            ]
          },
          "metadata": {
            "tags": []
          },
          "execution_count": 43
        }
      ]
    },
    {
      "cell_type": "code",
      "metadata": {
        "colab": {
          "base_uri": "https://localhost:8080/"
        },
        "id": "zVTMBq5OvcGv",
        "outputId": "2bf7bc4f-82f6-4a85-8ae2-d7d67e526dee"
      },
      "source": [
        "ypred = lr.predict(xtest)\n",
        "ypred"
      ],
      "execution_count": 44,
      "outputs": [
        {
          "output_type": "execute_result",
          "data": {
            "text/plain": [
              "array(['sitting', 'walking', 'walking', ..., 'standing', 'sitting',\n",
              "       'sitting'], dtype=object)"
            ]
          },
          "metadata": {
            "tags": []
          },
          "execution_count": 44
        }
      ]
    },
    {
      "cell_type": "code",
      "metadata": {
        "colab": {
          "base_uri": "https://localhost:8080/"
        },
        "id": "Y1QkMlU7vcGv",
        "outputId": "f660923d-fe38-4bc2-999d-844cd52e0432"
      },
      "source": [
        "from sklearn.metrics import confusion_matrix\n",
        "confusion_matrix(ytest, ypred, labels = ['sitting' ,'sittingdown' ,'standing' ,'standingup' ,'walking'])"
      ],
      "execution_count": 45,
      "outputs": [
        {
          "output_type": "execute_result",
          "data": {
            "text/plain": [
              "array([[16846,    49,     0,    48,     9],\n",
              "       [  235,  2127,   872,   445,   307],\n",
              "       [    0,    41, 13424,    21,  2146],\n",
              "       [  153,   514,   767,  2362,   292],\n",
              "       [   14,   456,  4501,   301,  9280]])"
            ]
          },
          "metadata": {
            "tags": []
          },
          "execution_count": 45
        }
      ]
    },
    {
      "cell_type": "code",
      "metadata": {
        "colab": {
          "base_uri": "https://localhost:8080/",
          "height": 280
        },
        "id": "H4lKLDFtvcGv",
        "outputId": "4d4feaa5-4e81-4131-c9de-6bfcc548ad4a"
      },
      "source": [
        "from sklearn.metrics import plot_confusion_matrix\n",
        "plot_confusion_matrix(lr, xtest, ytest,  normalize = 'pred')\n",
        "sns.set(font_scale=0.75)\n",
        "plt.show()"
      ],
      "execution_count": 46,
      "outputs": [
        {
          "output_type": "display_data",
          "data": {
            "image/png": "[encoded data removed]",
            "text/plain": [
              "<Figure size 432x288 with 2 Axes>"
            ]
          },
          "metadata": {
            "tags": []
          }
        }
      ]
    },
    {
      "cell_type": "code",
      "metadata": {
        "colab": {
          "base_uri": "https://localhost:8080/",
          "height": 280
        },
        "id": "8ZjIWEOpvcGw",
        "outputId": "e595d6d8-4045-4458-8b28-53e3c4e01071"
      },
      "source": [
        "plot_confusion_matrix(lr, xtest, ytest,  cmap = 'inferno')\n",
        "sns.set(font_scale=0.75)\n",
        "plt.show()"
      ],
      "execution_count": 47,
      "outputs": [
        {
          "output_type": "display_data",
          "data": {
            "image/png": "[encoded data removed]",
            "text/plain": [
              "<Figure size 432x288 with 2 Axes>"
            ]
          },
          "metadata": {
            "tags": []
          }
        }
      ]
    },
    {
      "cell_type": "code",
      "metadata": {
        "colab": {
          "base_uri": "https://localhost:8080/"
        },
        "id": "Iebmt-XQvcGw",
        "outputId": "ab0cb411-2b15-4901-d4f5-adcda20b4907"
      },
      "source": [
        "n = len(x)\n",
        "j = 0\n",
        "x1 = x.to_numpy()\n",
        "y1 = y.to_numpy()\n",
        "for i in range(3):\n",
        "    xtest = x1[j:j+n//3]\n",
        "    ytest = y1[j:j+n//3]\n",
        "    xtrain = np.concatenate( (x1[:j],x1[j+n//3:]))\n",
        "    ytrain = np.concatenate( (y1[:j],y1[j+n//3:]))\n",
        "    lr.fit(xtrain[:1000], ytrain[:1000])\n",
        "    j+=n//3\n",
        "    print(lr.score(xtest, ytest))\n"
      ],
      "execution_count": 48,
      "outputs": [
        {
          "output_type": "stream",
          "text": [
            "/usr/local/lib/python3.6/dist-packages/sklearn/linear_model/_logistic.py:940: ConvergenceWarning: lbfgs failed to converge (status=1):\n",
            "STOP: TOTAL NO. of ITERATIONS REACHED LIMIT.\n",
            "\n",
            "Increase the number of iterations (max_iter) or scale the data as shown in:\n",
            "    https://scikit-learn.org/stable/modules/preprocessing.html\n",
            "Please also refer to the documentation for alternative solver options:\n",
            "    https://scikit-learn.org/stable/modules/linear_model.html#logistic-regression\n",
            "  extra_warning_msg=_LOGISTIC_SOLVER_CONVERGENCE_MSG)\n"
          ],
          "name": "stderr"
        },
        {
          "output_type": "stream",
          "text": [
            "0.7941496105777939\n"
          ],
          "name": "stdout"
        },
        {
          "output_type": "stream",
          "text": [
            "/usr/local/lib/python3.6/dist-packages/sklearn/linear_model/_logistic.py:940: ConvergenceWarning: lbfgs failed to converge (status=1):\n",
            "STOP: TOTAL NO. of ITERATIONS REACHED LIMIT.\n",
            "\n",
            "Increase the number of iterations (max_iter) or scale the data as shown in:\n",
            "    https://scikit-learn.org/stable/modules/preprocessing.html\n",
            "Please also refer to the documentation for alternative solver options:\n",
            "    https://scikit-learn.org/stable/modules/linear_model.html#logistic-regression\n",
            "  extra_warning_msg=_LOGISTIC_SOLVER_CONVERGENCE_MSG)\n"
          ],
          "name": "stderr"
        },
        {
          "output_type": "stream",
          "text": [
            "0.8006158304654953\n",
            "0.801593914145988\n"
          ],
          "name": "stdout"
        },
        {
          "output_type": "stream",
          "text": [
            "/usr/local/lib/python3.6/dist-packages/sklearn/linear_model/_logistic.py:940: ConvergenceWarning: lbfgs failed to converge (status=1):\n",
            "STOP: TOTAL NO. of ITERATIONS REACHED LIMIT.\n",
            "\n",
            "Increase the number of iterations (max_iter) or scale the data as shown in:\n",
            "    https://scikit-learn.org/stable/modules/preprocessing.html\n",
            "Please also refer to the documentation for alternative solver options:\n",
            "    https://scikit-learn.org/stable/modules/linear_model.html#logistic-regression\n",
            "  extra_warning_msg=_LOGISTIC_SOLVER_CONVERGENCE_MSG)\n"
          ],
          "name": "stderr"
        }
      ]
    },
    {
      "cell_type": "code",
      "metadata": {
        "colab": {
          "base_uri": "https://localhost:8080/"
        },
        "id": "bX53n--NvcGw",
        "outputId": "c913115a-0af6-4cac-93fd-933fa3b07a68"
      },
      "source": [
        "from sklearn.svm import SVC\n",
        "svm = SVC(kernel = 'rbf')\n",
        "svm.fit(xtrain[:20000], ytrain[:20000])"
      ],
      "execution_count": 49,
      "outputs": [
        {
          "output_type": "execute_result",
          "data": {
            "text/plain": [
              "SVC(C=1.0, break_ties=False, cache_size=200, class_weight=None, coef0=0.0,\n",
              "    decision_function_shape='ovr', degree=3, gamma='scale', kernel='rbf',\n",
              "    max_iter=-1, probability=False, random_state=None, shrinking=True,\n",
              "    tol=0.001, verbose=False)"
            ]
          },
          "metadata": {
            "tags": []
          },
          "execution_count": 49
        }
      ]
    },
    {
      "cell_type": "code",
      "metadata": {
        "colab": {
          "base_uri": "https://localhost:8080/"
        },
        "id": "ZfqWsSLNvcGx",
        "outputId": "9b00231b-1c2c-43ce-c642-4b14b7595d99"
      },
      "source": [
        "svm.score(xtest, ytest)"
      ],
      "execution_count": 50,
      "outputs": [
        {
          "output_type": "execute_result",
          "data": {
            "text/plain": [
              "0.8862887158123528"
            ]
          },
          "metadata": {
            "tags": []
          },
          "execution_count": 50
        }
      ]
    },
    {
      "cell_type": "code",
      "metadata": {
        "colab": {
          "base_uri": "https://localhost:8080/"
        },
        "id": "yNoQ1U9IvcGx",
        "outputId": "4f6fa68d-ab5b-46aa-b442-9ad60928649f"
      },
      "source": [
        "svm.score(xtrain, ytrain)"
      ],
      "execution_count": 51,
      "outputs": [
        {
          "output_type": "execute_result",
          "data": {
            "text/plain": [
              "0.8849595189364439"
            ]
          },
          "metadata": {
            "tags": []
          },
          "execution_count": 51
        }
      ]
    },
    {
      "cell_type": "code",
      "metadata": {
        "colab": {
          "base_uri": "https://localhost:8080/",
          "height": 280
        },
        "id": "4tEIRX_0vcGx",
        "outputId": "2297a6bc-2a5a-46bc-8f37-4168a2eb8539"
      },
      "source": [
        "plot_confusion_matrix(svm, xtest, ytest,  normalize = 'pred')\n",
        "sns.set(font_scale=0.75)\n",
        "plt.show()"
      ],
      "execution_count": 52,
      "outputs": [
        {
          "output_type": "display_data",
          "data": {
            "image/png": "[encoded data removed]",
            "text/plain": [
              "<Figure size 432x288 with 2 Axes>"
            ]
          },
          "metadata": {
            "tags": []
          }
        }
      ]
    },
    {
      "cell_type": "code",
      "metadata": {
        "colab": {
          "base_uri": "https://localhost:8080/",
          "height": 280
        },
        "id": "P7wuIxc5vcGy",
        "outputId": "69d39aae-ad1a-49b0-90c5-594e98d1e75f"
      },
      "source": [
        "ypred = svm.predict(xtest)\n",
        "plot_confusion_matrix(svm, xtest, ytest,  cmap = 'inferno')\n",
        "sns.set(font_scale=0.75)\n",
        "plt.show()"
      ],
      "execution_count": 53,
      "outputs": [
        {
          "output_type": "display_data",
          "data": {
            "image/png": "[encoded data removed]",
            "text/plain": [
              "<Figure size 432x288 with 2 Axes>"
            ]
          },
          "metadata": {
            "tags": []
          }
        }
      ]
    },
    {
      "cell_type": "code",
      "metadata": {
        "colab": {
          "base_uri": "https://localhost:8080/"
        },
        "id": "5gslFD_9vcGy",
        "outputId": "bc23a702-ad99-43e2-f687-87e7b108eba0"
      },
      "source": [
        "n = len(x)\n",
        "j = 0\n",
        "x1 = x\n",
        "y1 =  y\n",
        "x1 = x.to_numpy()\n",
        "y1 = y.to_numpy()\n",
        "for i in range(3):\n",
        "    xtest = x1[j:j+n//3]\n",
        "    ytest = y1[j:j+n//3]\n",
        "    xtrain = np.concatenate( (x1[:j],x1[j+n//3:]))\n",
        "    ytrain = np.concatenate( (y1[:j],y1[j+n//3:]))\n",
        "    svm.fit(xtrain[:1000], ytrain[:1000])\n",
        "    print(svm.score(xtest, ytest))\n",
        "    j+=n//3"
      ],
      "execution_count": 54,
      "outputs": [
        {
          "output_type": "stream",
          "text": [
            "0.7749501901829379\n",
            "0.7686288715812353\n",
            "0.7688281108494838\n"
          ],
          "name": "stdout"
        }
      ]
    },
    {
      "cell_type": "code",
      "metadata": {
        "id": "oszswpIKvcGy"
      },
      "source": [
        "from sklearn.ensemble import RandomForestClassifier\n",
        "rf = RandomForestClassifier(max_depth = 16)\n"
      ],
      "execution_count": 55,
      "outputs": []
    },
    {
      "cell_type": "code",
      "metadata": {
        "colab": {
          "base_uri": "https://localhost:8080/"
        },
        "id": "HZTj-4ImvcGz",
        "outputId": "bc99a7d8-302f-4dbc-fcd3-4bf864f09589"
      },
      "source": [
        "rf.fit(xtrain, ytrain)"
      ],
      "execution_count": 56,
      "outputs": [
        {
          "output_type": "execute_result",
          "data": {
            "text/plain": [
              "RandomForestClassifier(bootstrap=True, ccp_alpha=0.0, class_weight=None,\n",
              "                       criterion='gini', max_depth=16, max_features='auto',\n",
              "                       max_leaf_nodes=None, max_samples=None,\n",
              "                       min_impurity_decrease=0.0, min_impurity_split=None,\n",
              "                       min_samples_leaf=1, min_samples_split=2,\n",
              "                       min_weight_fraction_leaf=0.0, n_estimators=100,\n",
              "                       n_jobs=None, oob_score=False, random_state=None,\n",
              "                       verbose=0, warm_start=False)"
            ]
          },
          "metadata": {
            "tags": []
          },
          "execution_count": 56
        }
      ]
    },
    {
      "cell_type": "code",
      "metadata": {
        "colab": {
          "base_uri": "https://localhost:8080/"
        },
        "id": "mp1MKeFQvcGz",
        "outputId": "a76d866e-c3bb-4e64-b89c-b1ba98c25300"
      },
      "source": [
        "rf.score(xtest, ytest)"
      ],
      "execution_count": 57,
      "outputs": [
        {
          "output_type": "execute_result",
          "data": {
            "text/plain": [
              "0.9907082050353196"
            ]
          },
          "metadata": {
            "tags": []
          },
          "execution_count": 57
        }
      ]
    },
    {
      "cell_type": "code",
      "metadata": {
        "colab": {
          "base_uri": "https://localhost:8080/"
        },
        "id": "oMWbRr2fvcGz",
        "outputId": "7794a7c4-ed95-40a0-d35a-01b44876c638"
      },
      "source": [
        "rf.score(xtrain ,ytrain)"
      ],
      "execution_count": 58,
      "outputs": [
        {
          "output_type": "execute_result",
          "data": {
            "text/plain": [
              "0.996395645795222"
            ]
          },
          "metadata": {
            "tags": []
          },
          "execution_count": 58
        }
      ]
    },
    {
      "cell_type": "code",
      "metadata": {
        "colab": {
          "base_uri": "https://localhost:8080/",
          "height": 280
        },
        "id": "_sS4PaEPvcGz",
        "outputId": "41370323-d139-4444-e91a-1b959d9e47f3"
      },
      "source": [
        "from sklearn.metrics import plot_confusion_matrix\n",
        "plot_confusion_matrix(rf, xtest, ytest,  cmap = 'inferno')\n",
        "sns.set(font_scale=0.75)\n",
        "plt.show()"
      ],
      "execution_count": 59,
      "outputs": [
        {
          "output_type": "display_data",
          "data": {
            "image/png": "[encoded data removed]",
            "text/plain": [
              "<Figure size 432x288 with 2 Axes>"
            ]
          },
          "metadata": {
            "tags": []
          }
        }
      ]
    },
    {
      "cell_type": "code",
      "metadata": {
        "colab": {
          "base_uri": "https://localhost:8080/",
          "height": 280
        },
        "id": "j3zUB_nmvcG0",
        "outputId": "10d560ed-d08f-4081-ba1e-c77fa9e153ea"
      },
      "source": [
        "plot_confusion_matrix(rf, xtest, ytest,  normalize = 'pred')\n",
        "sns.set(font_scale=0.75)\n",
        "plt.show()"
      ],
      "execution_count": 60,
      "outputs": [
        {
          "output_type": "display_data",
          "data": {
            "image/png": "[encoded data removed]",
            "text/plain": [
              "<Figure size 432x288 with 2 Axes>"
            ]
          },
          "metadata": {
            "tags": []
          }
        }
      ]
    },
    {
      "cell_type": "code",
      "metadata": {
        "colab": {
          "base_uri": "https://localhost:8080/"
        },
        "id": "rRD_9gJUvcG0",
        "outputId": "b0bbbef8-87c6-47c1-cc1a-12bc34c23e8b"
      },
      "source": [
        "n = len(x)\n",
        "j = 0\n",
        "x1 = x\n",
        "y1 =  y\n",
        "x1 = x.to_numpy()\n",
        "y1 = y.to_numpy()\n",
        "for i in range(3):\n",
        "    xtest = x1[j:j+n//3]\n",
        "    ytest = y1[j:j+n//3]\n",
        "    xtrain = np.concatenate( (x1[:j],x1[j+n//3:]))\n",
        "    ytrain = np.concatenate( (y1[:j],y1[j+n//3:]))\n",
        "    rf = RandomForestClassifier()\n",
        "    rf.fit(xtrain, ytrain)\n",
        "    print(rf.score(xtest, ytest))\n",
        "    del(rf)\n",
        "    j+=n//3"
      ],
      "execution_count": 61,
      "outputs": [
        {
          "output_type": "stream",
          "text": [
            "0.9947292157217895\n",
            "0.9945118637927911\n",
            "0.9943126245245426\n"
          ],
          "name": "stdout"
        }
      ]
    },
    {
      "cell_type": "code",
      "metadata": {
        "id": "ErlcT_kviXfk"
      },
      "source": [
        ""
      ],
      "execution_count": 61,
      "outputs": []
    },
    {
      "cell_type": "code",
      "metadata": {
        "colab": {
          "base_uri": "https://localhost:8080/"
        },
        "id": "IVvn2JvNx8aM",
        "outputId": "0fcefd38-a88e-49ce-bae3-6a96f49db194"
      },
      "source": [
        "from sklearn.neural_network import MLPClassifier\n",
        "nn = MLPClassifier()\n",
        "nn.fit(xtrain, ytrain)"
      ],
      "execution_count": 62,
      "outputs": [
        {
          "output_type": "execute_result",
          "data": {
            "text/plain": [
              "MLPClassifier(activation='relu', alpha=0.0001, batch_size='auto', beta_1=0.9,\n",
              "              beta_2=0.999, early_stopping=False, epsilon=1e-08,\n",
              "              hidden_layer_sizes=(100,), learning_rate='constant',\n",
              "              learning_rate_init=0.001, max_fun=15000, max_iter=200,\n",
              "              momentum=0.9, n_iter_no_change=10, nesterovs_momentum=True,\n",
              "              power_t=0.5, random_state=None, shuffle=True, solver='adam',\n",
              "              tol=0.0001, validation_fraction=0.1, verbose=False,\n",
              "              warm_start=False)"
            ]
          },
          "metadata": {
            "tags": []
          },
          "execution_count": 62
        }
      ]
    },
    {
      "cell_type": "code",
      "metadata": {
        "colab": {
          "base_uri": "https://localhost:8080/"
        },
        "id": "8eEc0YEmkVs6",
        "outputId": "1f8d003d-a2f4-4e29-871d-81e1daa7e346"
      },
      "source": [
        "act = ['relu', 'identity','logistic','tanh']\n",
        "alpha = [1, 0.1, 0.05, 0.01]\n",
        "acc = []\n",
        "for a in alpha:\n",
        "  for ac in act:\n",
        "    nn = MLPClassifier(alpha= a, activation= ac)\n",
        "    nn.fit(xtrain, ytrain)\n",
        "    acc.append(nn.score(xtest, ytest))"
      ],
      "execution_count": 63,
      "outputs": [
        {
          "output_type": "stream",
          "text": [
            "/usr/local/lib/python3.6/dist-packages/sklearn/neural_network/_multilayer_perceptron.py:571: ConvergenceWarning: Stochastic Optimizer: Maximum iterations (200) reached and the optimization hasn't converged yet.\n",
            "  % self.max_iter, ConvergenceWarning)\n",
            "/usr/local/lib/python3.6/dist-packages/sklearn/neural_network/_multilayer_perceptron.py:571: ConvergenceWarning: Stochastic Optimizer: Maximum iterations (200) reached and the optimization hasn't converged yet.\n",
            "  % self.max_iter, ConvergenceWarning)\n"
          ],
          "name": "stderr"
        }
      ]
    },
    {
      "cell_type": "code",
      "metadata": {
        "colab": {
          "base_uri": "https://localhost:8080/"
        },
        "id": "-XijNluslA_b",
        "outputId": "66d21538-b1c5-43e4-e05d-ce891591162e"
      },
      "source": [
        "print(acc)"
      ],
      "execution_count": 64,
      "outputs": [
        {
          "output_type": "stream",
          "text": [
            "[0.9703495743524724, 0.8209020105053433, 0.9695707299402282, 0.9677956891867415, 0.9826842963231298, 0.8097083861619272, 0.9794421300489042, 0.9714725593189639, 0.9712914327114653, 0.8213004890418403, 0.9807462416228944, 0.9737547545734468, 0.985727223329107, 0.8122803839884079, 0.982267705125883, 0.9749139648614381]\n"
          ],
          "name": "stdout"
        }
      ]
    },
    {
      "cell_type": "code",
      "metadata": {
        "colab": {
          "base_uri": "https://localhost:8080/"
        },
        "id": "otqIpcqLzedQ",
        "outputId": "2279c6a3-cd59-43e1-f255-620e51cf731f"
      },
      "source": [
        "nn.score(xtest, ytest)"
      ],
      "execution_count": 65,
      "outputs": [
        {
          "output_type": "execute_result",
          "data": {
            "text/plain": [
              "0.9749139648614381"
            ]
          },
          "metadata": {
            "tags": []
          },
          "execution_count": 65
        }
      ]
    },
    {
      "cell_type": "code",
      "metadata": {
        "colab": {
          "base_uri": "https://localhost:8080/",
          "height": 280
        },
        "id": "rnBRmdfJicC1",
        "outputId": "a9c54c40-4996-4552-c8e7-87034f6f4b6b"
      },
      "source": [
        "plot_confusion_matrix(nn, xtest, ytest,  normalize = 'pred')\n",
        "sns.set(font_scale=0.75)\n",
        "plt.show()"
      ],
      "execution_count": 66,
      "outputs": [
        {
          "output_type": "display_data",
          "data": {
            "image/png": "[encoded data removed]",
            "text/plain": [
              "<Figure size 432x288 with 2 Axes>"
            ]
          },
          "metadata": {
            "tags": []
          }
        }
      ]
    },
    {
      "cell_type": "code",
      "metadata": {
        "colab": {
          "base_uri": "https://localhost:8080/",
          "height": 298
        },
        "id": "x0whmp5WGrL7",
        "outputId": "21918df5-82a6-497d-d727-0986eb011314"
      },
      "source": [
        "acc1 = []\n",
        "j = 1\n",
        "for i in alpha:\n",
        "  acc1.append(acc[j])\n",
        "  j+=4\n",
        "plt.ylabel(\"Accuracy\")\n",
        "plt.xlabel(\"Learning rate\")\n",
        "plt.plot(alpha, acc1)"
      ],
      "execution_count": 75,
      "outputs": [
        {
          "output_type": "execute_result",
          "data": {
            "text/plain": [
              "[<matplotlib.lines.Line2D at 0x7f1c1d480898>]"
            ]
          },
          "metadata": {
            "tags": []
          },
          "execution_count": 75
        },
        {
          "output_type": "display_data",
          "data": {
            "image/png": "[encoded data removed]",
            "text/plain": [
              "<Figure size 432x288 with 1 Axes>"
            ]
          },
          "metadata": {
            "tags": []
          }
        }
      ]
    },
    {
      "cell_type": "code",
      "metadata": {
        "colab": {
          "base_uri": "https://localhost:8080/"
        },
        "id": "tLmXDPN8099s",
        "outputId": "c1502575-c20f-4cb9-decb-8d592f4eb098"
      },
      "source": [
        "from sklearn.cluster import KMeans\n",
        "kmeans = KMeans(n_clusters=5)\n",
        "kmeans.fit(xtrain, ytrain)"
      ],
      "execution_count": 68,
      "outputs": [
        {
          "output_type": "execute_result",
          "data": {
            "text/plain": [
              "KMeans(algorithm='auto', copy_x=True, init='k-means++', max_iter=300,\n",
              "       n_clusters=5, n_init=10, n_jobs=None, precompute_distances='auto',\n",
              "       random_state=None, tol=0.0001, verbose=0)"
            ]
          },
          "metadata": {
            "tags": []
          },
          "execution_count": 68
        }
      ]
    },
    {
      "cell_type": "code",
      "metadata": {
        "colab": {
          "base_uri": "https://localhost:8080/"
        },
        "id": "ICMykBPa3HE2",
        "outputId": "e439b4f0-6326-41a1-969c-1fcceb20ea31"
      },
      "source": [
        "kmeans.score(xtest, ytest)"
      ],
      "execution_count": 69,
      "outputs": [
        {
          "output_type": "execute_result",
          "data": {
            "text/plain": [
              "-509296424.701004"
            ]
          },
          "metadata": {
            "tags": []
          },
          "execution_count": 69
        }
      ]
    },
    {
      "cell_type": "code",
      "metadata": {
        "id": "XfZNme2q3LHF"
      },
      "source": [
        ""
      ],
      "execution_count": 69,
      "outputs": []
    }
  ]
}